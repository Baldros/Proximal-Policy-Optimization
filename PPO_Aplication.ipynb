{
 "cells": [
  {
   "cell_type": "code",
   "execution_count": 7,
   "id": "86b5ac50-fd9a-4c43-8525-da4f041ed4e1",
   "metadata": {},
   "outputs": [],
   "source": [
    "import os\n",
    "import random\n",
    "import time\n",
    "from dataclasses import dataclass\n",
    "\n",
    "import gymnasium as gym\n",
    "import numpy as np\n",
    "import torch\n",
    "import torch.nn as nn\n",
    "import torch.optim as optim\n",
    "from torch.distributions.categorical import Categorical\n",
    "from torch.utils.tensorboard import SummaryWriter\n",
    "\n",
    "from matplotlib import pyplot as plt\n",
    "from ppo_algorithm import *"
   ]
  },
  {
   "cell_type": "code",
   "execution_count": 8,
   "id": "bf504a0d-c456-4bcc-8885-550085ad8374",
   "metadata": {},
   "outputs": [
    {
     "data": {
      "text/plain": [
       "(array([-0.02204082, -0.0358295 ,  0.01177656, -0.04306832], dtype=float32),\n",
       " {})"
      ]
     },
     "execution_count": 8,
     "metadata": {},
     "output_type": "execute_result"
    }
   ],
   "source": [
    "# Criando ambiente:\n",
    "env = gym.make(\"CartPole-v1\", render_mode=\"rgb_array\")\n",
    "env.reset() # Startando o ambiente:"
   ]
  },
  {
   "cell_type": "code",
   "execution_count": 12,
   "id": "3da3c843-616a-4c6a-b496-307686a87e44",
   "metadata": {},
   "outputs": [],
   "source": [
    "def render():\n",
    "    state_image = env.render()  # Renderiza o ambiente\n",
    "    plt.imshow(state_image)  # Plota a imagem\n",
    "    plt.axis('off')  # Remove os eixos para melhor visualização\n",
    "    plt.show()"
   ]
  },
  {
   "cell_type": "code",
   "execution_count": 10,
   "id": "814b78f7-ec59-460b-960b-a62d1d8e5583",
   "metadata": {},
   "outputs": [
    {
     "data": {
      "image/png": "[encoded data removed]",
      "text/plain": [
       "<Figure size 640x480 with 1 Axes>"
      ]
     },
     "metadata": {},
     "output_type": "display_data"
    }
   ],
   "source": [
    "render()"
   ]
  },
  {
   "cell_type": "code",
   "execution_count": 11,
   "id": "f50e1b1b-c7cd-463d-ad7d-2d026bea82a8",
   "metadata": {},
   "outputs": [
    {
     "ename": "AttributeError",
     "evalue": "'TimeLimit' object has no attribute 'single_observation_space'",
     "output_type": "error",
     "traceback": [
      "\u001b[1;31m---------------------------------------------------------------------------\u001b[0m",
      "\u001b[1;31mAttributeError\u001b[0m                            Traceback (most recent call last)",
      "Cell \u001b[1;32mIn[11], line 2\u001b[0m\n\u001b[0;32m      1\u001b[0m env \u001b[38;5;241m=\u001b[39m gym\u001b[38;5;241m.\u001b[39mmake(\u001b[38;5;124m\"\u001b[39m\u001b[38;5;124mCartPole-v1\u001b[39m\u001b[38;5;124m\"\u001b[39m, render_mode\u001b[38;5;241m=\u001b[39m\u001b[38;5;124m\"\u001b[39m\u001b[38;5;124mhuman\u001b[39m\u001b[38;5;124m\"\u001b[39m)\n\u001b[1;32m----> 2\u001b[0m ppo \u001b[38;5;241m=\u001b[39m \u001b[43mPPO\u001b[49m\u001b[43m(\u001b[49m\u001b[43menv\u001b[49m\u001b[43m)\u001b[49m\n\u001b[0;32m      3\u001b[0m ppo\u001b[38;5;241m.\u001b[39mtrain(env, total_timesteps\u001b[38;5;241m=\u001b[39m\u001b[38;5;241m100000\u001b[39m)\n",
      "File \u001b[1;32m~\\Estudo\\Deepmath\\ppo_algorithm.py:30\u001b[0m, in \u001b[0;36mPPO.__init__\u001b[1;34m(self, envs, hidden_size, gamma, lam, clip_epsilon, lr, entropy_coef)\u001b[0m\n\u001b[0;32m     27\u001b[0m \u001b[38;5;28mself\u001b[39m\u001b[38;5;241m.\u001b[39mclip_epsilon \u001b[38;5;241m=\u001b[39m clip_epsilon\n\u001b[0;32m     28\u001b[0m \u001b[38;5;28mself\u001b[39m\u001b[38;5;241m.\u001b[39mentropy_coef \u001b[38;5;241m=\u001b[39m entropy_coef\n\u001b[1;32m---> 30\u001b[0m obs_dim \u001b[38;5;241m=\u001b[39m np\u001b[38;5;241m.\u001b[39marray(\u001b[43menvs\u001b[49m\u001b[38;5;241;43m.\u001b[39;49m\u001b[43msingle_observation_space\u001b[49m\u001b[38;5;241m.\u001b[39mshape)\u001b[38;5;241m.\u001b[39mprod()\n\u001b[0;32m     31\u001b[0m action_dim \u001b[38;5;241m=\u001b[39m envs\u001b[38;5;241m.\u001b[39msingle_action_space\u001b[38;5;241m.\u001b[39mn\n\u001b[0;32m     33\u001b[0m \u001b[38;5;28mself\u001b[39m\u001b[38;5;241m.\u001b[39mactor \u001b[38;5;241m=\u001b[39m nn\u001b[38;5;241m.\u001b[39mSequential(\n\u001b[0;32m     34\u001b[0m     layer_init(nn\u001b[38;5;241m.\u001b[39mLinear(obs_dim, hidden_size)),\n\u001b[0;32m     35\u001b[0m     nn\u001b[38;5;241m.\u001b[39mTanh(),\n\u001b[1;32m   (...)\u001b[0m\n\u001b[0;32m     38\u001b[0m     layer_init(nn\u001b[38;5;241m.\u001b[39mLinear(hidden_size, action_dim), std\u001b[38;5;241m=\u001b[39m\u001b[38;5;241m0.01\u001b[39m)\n\u001b[0;32m     39\u001b[0m )\n",
      "\u001b[1;31mAttributeError\u001b[0m: 'TimeLimit' object has no attribute 'single_observation_space'"
     ]
    }
   ],
   "source": [
    "env = gym.make(\"CartPole-v1\", render_mode=\"human\")\n",
    "ppo = PPO(env)\n",
    "ppo.train(env, total_timesteps=100000)"
   ]
  }
 ],
 "metadata": {
  "kernelspec": {
   "display_name": "Python 3 (ipykernel)",
   "language": "python",
   "name": "python3"
  },
  "language_info": {
   "codemirror_mode": {
    "name": "ipython",
    "version": 3
   },
   "file_extension": ".py",
   "mimetype": "text/x-python",
   "name": "python",
   "nbconvert_exporter": "python",
   "pygments_lexer": "ipython3",
   "version": "3.12.8"
  }
 },
 "nbformat": 4,
 "nbformat_minor": 5
}
